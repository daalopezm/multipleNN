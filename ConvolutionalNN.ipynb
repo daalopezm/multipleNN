{
 "cells": [
  {
   "cell_type": "code",
   "execution_count": 30,
   "metadata": {},
   "outputs": [],
   "source": [
    "import torch\n",
    "import torch.nn as nn\n",
    "import torch.nn.functional as F\n",
    "import torch.optim as optim\n",
    "from torchvision import datasets, transforms\n",
    "\n",
    "class CustomLayer(nn.Module):\n",
    "    def __init__(self):\n",
    "        super(CustomLayer, self).__init__()\n",
    "        # Learnable scale parameter\n",
    "        self.scale = nn.Parameter(torch.ones(1))\n",
    "        \n",
    "    def forward(self, x):\n",
    "        return x * self.scale\n",
    "    \n",
    "    \n",
    "class CNNModel(nn.Module):\n",
    "    def __init__(self):\n",
    "        super(CNNModel, self).__init__()\n",
    "        self.conv1 = nn.Conv2d(1, 32, kernel_size=3, padding=1)\n",
    "        self.conv2 = nn.Conv2d(32, 64, kernel_size=3, padding=1)\n",
    "        self.custom_layer = CustomLayer()\n",
    "        self.fc1 = nn.Linear(64 * 7 * 7, 128)\n",
    "        self.fc2 = nn.Linear(128, 10)\n",
    "        \n",
    "    def forward(self, x):\n",
    "        x = F.relu(self.conv1(x))\n",
    "        x = F.max_pool2d(x, 2)\n",
    "        x = F.relu(self.conv2(x))\n",
    "        x = F.max_pool2d(x, 2)\n",
    "        x = self.custom_layer(x)\n",
    "        x = x.view(-1, 64 * 7 * 7)\n",
    "        x = F.relu(self.fc1(x))\n",
    "        x = self.fc2(x)\n",
    "        return F.log_softmax(x, dim=1)\n",
    "\n",
    "\n",
    "transform = transforms.Compose([\n",
    "    transforms.ToTensor(),\n",
    "    transforms.Normalize((0.1307,), (0.3081,))\n",
    "])\n",
    "\n",
    "train_dataset = datasets.MNIST('./data', train=True, download=True, transform=transform)\n",
    "test_dataset = datasets.MNIST('./data', train=False, download=True, transform=transform)\n",
    "\n",
    "train_loader = torch.utils.data.DataLoader(train_dataset, batch_size=64, shuffle=True)\n",
    "test_loader = torch.utils.data.DataLoader(test_dataset, batch_size=1000, shuffle=False)\n"
   ]
  },
  {
   "cell_type": "code",
   "execution_count": 32,
   "metadata": {},
   "outputs": [
    {
     "name": "stderr",
     "output_type": "stream",
     "text": [
      "C:\\Users\\dalop\\AppData\\Local\\Temp\\ipykernel_23700\\4220377820.py:51: FutureWarning: You are using `torch.load` with `weights_only=False` (the current default value), which uses the default pickle module implicitly. It is possible to construct malicious pickle data which will execute arbitrary code during unpickling (See https://github.com/pytorch/pytorch/blob/main/SECURITY.md#untrusted-models for more details). In a future release, the default value for `weights_only` will be flipped to `True`. This limits the functions that could be executed during unpickling. Arbitrary objects will no longer be allowed to be loaded via this mode unless they are explicitly allowlisted by the user via `torch.serialization.add_safe_globals`. We recommend you start setting `weights_only=True` for any use case where you don't have full control of the loaded file. Please open an issue on GitHub for any issues related to this experimental feature.\n",
      "  checkpoint = torch.load(checkpoint_file)\n"
     ]
    },
    {
     "name": "stdout",
     "output_type": "stream",
     "text": [
      "Checkpoint loaded. Resuming training from epoch 4\n",
      "Train Epoch: 3 [0/60000 (0%)]\tLoss: 0.008755\n",
      "Train Epoch: 3 [6400/60000 (11%)]\tLoss: 0.000930\n",
      "Train Epoch: 3 [12800/60000 (21%)]\tLoss: 0.001296\n",
      "Train Epoch: 3 [19200/60000 (32%)]\tLoss: 0.002565\n",
      "Train Epoch: 3 [25600/60000 (43%)]\tLoss: 0.000838\n",
      "Train Epoch: 3 [32000/60000 (53%)]\tLoss: 0.001240\n",
      "Train Epoch: 3 [38400/60000 (64%)]\tLoss: 0.011851\n",
      "Train Epoch: 3 [44800/60000 (75%)]\tLoss: 0.000522\n",
      "Train Epoch: 3 [51200/60000 (85%)]\tLoss: 0.003149\n",
      "Train Epoch: 3 [57600/60000 (96%)]\tLoss: 0.002783\n",
      "\n",
      "Test set: Average loss: 0.0261, Accuracy: 9919/10000 (99%)\n",
      "\n",
      "Train Epoch: 4 [0/60000 (0%)]\tLoss: 0.001056\n",
      "Train Epoch: 4 [6400/60000 (11%)]\tLoss: 0.000442\n",
      "Train Epoch: 4 [12800/60000 (21%)]\tLoss: 0.030838\n",
      "Train Epoch: 4 [19200/60000 (32%)]\tLoss: 0.001253\n",
      "Train Epoch: 4 [25600/60000 (43%)]\tLoss: 0.005734\n",
      "Train Epoch: 4 [32000/60000 (53%)]\tLoss: 0.002315\n",
      "Train Epoch: 4 [38400/60000 (64%)]\tLoss: 0.000531\n",
      "Train Epoch: 4 [44800/60000 (75%)]\tLoss: 0.013671\n",
      "Train Epoch: 4 [51200/60000 (85%)]\tLoss: 0.001346\n",
      "Train Epoch: 4 [57600/60000 (96%)]\tLoss: 0.002896\n",
      "\n",
      "Test set: Average loss: 0.0271, Accuracy: 9921/10000 (99%)\n",
      "\n"
     ]
    }
   ],
   "source": [
    "import os\n",
    "model = CNNModel()\n",
    "optimizer = optim.Adam(model.parameters(), lr=0.001)\n",
    "\n",
    "def train(model, device, train_loader, optimizer, epoch):\n",
    "    model.train()\n",
    "    for batch_idx, (data, target) in enumerate(train_loader):\n",
    "        data, target = data.to(device), target.to(device)\n",
    "        optimizer.zero_grad()\n",
    "        output = model(data)\n",
    "        loss = F.nll_loss(output, target)\n",
    "        loss.backward()\n",
    "        optimizer.step()\n",
    "        if batch_idx % 100 == 0:\n",
    "            print(f'Train Epoch: {epoch} [{batch_idx * len(data)}/{len(train_loader.dataset)} '\n",
    "                  f'({100. * batch_idx / len(train_loader):.0f}%)]\\tLoss: {loss.item():.6f}')\n",
    "    # Save checkpoint after each epoch (optional)\n",
    "    checkpoint = {\n",
    "        'epoch': epoch,\n",
    "        'model_state_dict': model.state_dict(),\n",
    "        'optimizer_state_dict': optimizer.state_dict(),\n",
    "        'loss': loss.item()\n",
    "    }\n",
    "    torch.save(checkpoint, f'./checkpoints_ConvolutionalNN/model_checkpoint{epoch}.pth')\n",
    "\n",
    "def test(model, device, test_loader):\n",
    "    model.eval()\n",
    "    test_loss = 0\n",
    "    correct = 0\n",
    "    with torch.no_grad():\n",
    "        for data, target in test_loader:\n",
    "            data, target = data.to(device), target.to(device)\n",
    "            output = model(data)\n",
    "            test_loss += F.nll_loss(output, target, reduction='sum').item()  # sum up batch loss\n",
    "            pred = output.argmax(dim=1, keepdim=True)  # get the index of the max log-probability\n",
    "            correct += pred.eq(target.view_as(pred)).sum().item()\n",
    "\n",
    "    test_loss /= len(test_loader.dataset)\n",
    "\n",
    "    print(f'\\nTest set: Average loss: {test_loss:.4f}, Accuracy: {correct}/{len(test_loader.dataset)} '\n",
    "          f'({100. * correct / len(test_loader.dataset):.0f}%)\\n')\n",
    "\n",
    "device = torch.device(\"cuda\" if torch.cuda.is_available() else \"cpu\")\n",
    "model.to(device)\n",
    "\n",
    "\n",
    "checkpoint_file = './checkpoints_ConvolutionalNN/model_checkpoint3.pth'\n",
    "\n",
    "if os.path.exists(checkpoint_file):\n",
    "    # Load the checkpoint\n",
    "    checkpoint = torch.load(checkpoint_file)\n",
    "\n",
    "    # Restore the model, optimizer, and epoch\n",
    "    model.load_state_dict(checkpoint['model_state_dict'])\n",
    "    optimizer.load_state_dict(checkpoint['optimizer_state_dict'])\n",
    "    start_epoch = checkpoint['epoch']\n",
    "    running_loss = checkpoint['loss']\n",
    "\n",
    "    # If using GPU, ensure the model and optimizer are on the correct device\n",
    "    model.to(device)\n",
    "\n",
    "    print(f\"Checkpoint loaded. Resuming training from epoch {start_epoch + 1}\")\n",
    "else:\n",
    "    print(\"No checkpoint found. Starting training from scratch.\")\n",
    "    start_epoch = 0\n",
    "\n",
    "num_epochs = 2\n",
    "for epoch in range(start_epoch, start_epoch + num_epochs):  # Adjust the range as needed\n",
    "    train(model, device, train_loader, optimizer, epoch)\n",
    "    test(model, device, test_loader)\n"
   ]
  },
  {
   "cell_type": "code",
   "execution_count": 41,
   "metadata": {},
   "outputs": [
    {
     "name": "stdout",
     "output_type": "stream",
     "text": [
      "Predicted Class: 7\n"
     ]
    },
    {
     "name": "stderr",
     "output_type": "stream",
     "text": [
      "C:\\Users\\dalop\\AppData\\Local\\Temp\\ipykernel_23700\\1080983693.py:20: FutureWarning: You are using `torch.load` with `weights_only=False` (the current default value), which uses the default pickle module implicitly. It is possible to construct malicious pickle data which will execute arbitrary code during unpickling (See https://github.com/pytorch/pytorch/blob/main/SECURITY.md#untrusted-models for more details). In a future release, the default value for `weights_only` will be flipped to `True`. This limits the functions that could be executed during unpickling. Arbitrary objects will no longer be allowed to be loaded via this mode unless they are explicitly allowlisted by the user via `torch.serialization.add_safe_globals`. We recommend you start setting `weights_only=True` for any use case where you don't have full control of the loaded file. Please open an issue on GitHub for any issues related to this experimental feature.\n",
      "  checkpoint = torch.load('./checkpoints_ConvolutionalNN/model_checkpoint3.pth')  # Load the checkpoint\n"
     ]
    },
    {
     "data": {
      "image/png": "[encoded data removed]",
      "text/plain": [
       "<Figure size 640x480 with 1 Axes>"
      ]
     },
     "metadata": {},
     "output_type": "display_data"
    }
   ],
   "source": [
    "import torch\n",
    "import matplotlib.pyplot as plt\n",
    "from PIL import Image\n",
    "import torchvision.transforms as transforms\n",
    "\n",
    "# Step 1: Load the image and preprocess it\n",
    "image = Image.open('./individual_test_images/ochom.png')\n",
    "image_gray = image.convert('L')\n",
    "image_resized = image_gray.resize((28, 28))\n",
    "\n",
    "# Convert the image to a PyTorch tensor\n",
    "transform = transforms.ToTensor()\n",
    "image_tensor = transform(image_resized)\n",
    "\n",
    "# Add a batch dimension (required by the model)\n",
    "image_tensor = image_tensor.unsqueeze(0)  # Shape: [1, 1, 28, 28]\n",
    "\n",
    "# Step 2: Load the model and put it in evaluation mode\n",
    "model = CNNModel()\n",
    "checkpoint = torch.load('./checkpoints_ConvolutionalNN/model_checkpoint3.pth')  # Load the checkpoint\n",
    "model.load_state_dict(checkpoint['model_state_dict'])\n",
    "model.eval()\n",
    "\n",
    "# Step 3: Forward the image through the model\n",
    "with torch.no_grad():  # No need to track gradients for inference\n",
    "    output = model(image_tensor)\n",
    "\n",
    "# Step 4: Interpret the output\n",
    "predicted_class = output.argmax(dim=1, keepdim=True)  # Get the predicted class index\n",
    "print(f'Predicted Class: {predicted_class.item()}')\n",
    "\n",
    "# Step 5: Visualize the image (optional)\n",
    "plt.imshow(image_tensor.squeeze().numpy(), cmap='gray')\n",
    "plt.title(f'Predicted Class: {predicted_class.item()}')\n",
    "plt.axis('off')\n",
    "plt.show()\n"
   ]
  },
  {
   "cell_type": "code",
   "execution_count": 36,
   "metadata": {},
   "outputs": [
    {
     "data": {
      "text/plain": [
       "3136"
      ]
     },
     "execution_count": 36,
     "metadata": {},
     "output_type": "execute_result"
    }
   ],
   "source": [
    "64 * 7 * 7"
   ]
  }
 ],
 "metadata": {
  "kernelspec": {
   "display_name": "venv",
   "language": "python",
   "name": "python3"
  },
  "language_info": {
   "codemirror_mode": {
    "name": "ipython",
    "version": 3
   },
   "file_extension": ".py",
   "mimetype": "text/x-python",
   "name": "python",
   "nbconvert_exporter": "python",
   "pygments_lexer": "ipython3",
   "version": "3.12.4"
  }
 },
 "nbformat": 4,
 "nbformat_minor": 2
}
